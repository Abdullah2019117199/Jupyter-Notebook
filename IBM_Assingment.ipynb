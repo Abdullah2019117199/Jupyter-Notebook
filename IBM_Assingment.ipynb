{
  "metadata": {
    "kernelspec": {
      "name": "python",
      "display_name": "Python (Pyodide)",
      "language": "python"
    },
    "language_info": {
      "codemirror_mode": {
        "name": "python",
        "version": 3
      },
      "file_extension": ".py",
      "mimetype": "text/x-python",
      "name": "python",
      "nbconvert_exporter": "python",
      "pygments_lexer": "ipython3",
      "version": "3.8"
    }
  },
  "nbformat_minor": 4,
  "nbformat": 4,
  "cells": [
    {
      "cell_type": "markdown",
      "source": "# Assignment (Course-2)",
      "metadata": {}
    },
    {
      "cell_type": "markdown",
      "source": "## Introduction",
      "metadata": {}
    },
    {
      "cell_type": "markdown",
      "source": "### List of Data Science Languages\n1. Python\n2. Julia\n3. Scala\n4. R\n5. PHP\n6. JavaScript\n7. Go\n8. Ruby\n9. Visual Basic",
      "metadata": {}
    },
    {
      "cell_type": "markdown",
      "source": "### Data Science Libraries\n1. Pandas\n2. Matplolib\n3. NumPy\n4. SciPy\n5. Keras\n6. Scikit\n7. Vegas\n8. ggplot2\n9. TensorFlow",
      "metadata": {}
    },
    {
      "cell_type": "markdown",
      "source": "### Table of Data Science Tools\n| Item | Tools |\n|:---:|:---:|\n|Open Source Tools| MySQL, SQL, NoSQL, MongoDB, Apache CouchDB, Apache cassandra, Apache AirFlow|\n|Commercial Tools | Oracle Database, Microsoft SQL Server, IBM Db2, SAP, Oracle, SAS, Talend, SPSS Modeler|\n|Cloud Based Tools | Watson Studio, Watson OpenScale,IBM Data Refinery, Datameer, IBM's Congos Business intelligence suite|",
      "metadata": {}
    },
    {
      "cell_type": "markdown",
      "source": "### Arithmeric Expressions & Examples\n1. '+' = Addition : 2+5=7\n2. '-' = Subtraction : 5-2=3\n3. '*' = Multiplication : 2*5=10\n4. '/' = Division : 5/2=2.5",
      "metadata": {}
    },
    {
      "cell_type": "code",
      "source": "# Addition\nsum = 2+5\nprint(\"The Sum of 2 and 5 is :\",sum)\n#Multiplication\nmul=2*5\nprint(\"The Multiplication of 2 and 5 is :\",mul)",
      "metadata": {
        "trusted": true
      },
      "outputs": [
        {
          "name": "stdout",
          "text": "The Sum of 2 and 5 is : 7\nThe Multiplication of 2 and 5 is : 10\n",
          "output_type": "stream"
        }
      ],
      "execution_count": 5
    },
    {
      "cell_type": "markdown",
      "source": "## Minutes to Hour",
      "metadata": {}
    },
    {
      "cell_type": "code",
      "source": "min = 45\nhour = min/60\nprint(f\"{min} minutes equals to {hour} hour\")",
      "metadata": {
        "trusted": true
      },
      "outputs": [
        {
          "name": "stdout",
          "text": "45 minutes equals to 0.75 hour\n",
          "output_type": "stream"
        }
      ],
      "execution_count": 13
    },
    {
      "cell_type": "markdown",
      "source": "## Objectives\n1. Creating Notebook in JupyterLite\n2. Data Science tools\n3. Languages & Libraries in Data Science\n4. Arithmetic Expression & Examples",
      "metadata": {}
    },
    {
      "cell_type": "markdown",
      "source": "## Author\n### Md Abdullah Badshah",
      "metadata": {}
    },
    {
      "cell_type": "code",
      "source": "",
      "metadata": {
        "trusted": true
      },
      "outputs": [],
      "execution_count": null
    }
  ]
}